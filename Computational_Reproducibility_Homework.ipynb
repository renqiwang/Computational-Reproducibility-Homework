{
  "nbformat": 4,
  "nbformat_minor": 0,
  "metadata": {
    "colab": {
      "provenance": []
    },
    "kernelspec": {
      "name": "python3",
      "display_name": "Python 3"
    },
    "language_info": {
      "name": "python"
    }
  },
  "cells": [
    {
      "cell_type": "markdown",
      "source": [
        "\n",
        "# Computational Reproducibility Homework\n",
        "Set up a free GitHub account and create your first repository. Go to Google Colab and create a simple analysis file. In that analysis file, print today’s date, a simple arithmetic operation (e.g. 2*5) and write a brief reflection (no more than 300 words) on how using repositories, tracking changes and publishing like GitHub can help with computational reproducibility. Post this file to your GitHub repository and submit the link to the repository with your homework in it."
      ],
      "metadata": {
        "id": "QKgQJWki0bYj"
      }
    },
    {
      "cell_type": "code",
      "source": [],
      "metadata": {
        "id": "bvYEBUnq3rLZ"
      },
      "execution_count": null,
      "outputs": []
    },
    {
      "cell_type": "markdown",
      "source": [
        "**1. Print today's date**"
      ],
      "metadata": {
        "id": "92jdliOo0I1F"
      }
    },
    {
      "cell_type": "code",
      "execution_count": null,
      "metadata": {
        "colab": {
          "base_uri": "https://localhost:8080/"
        },
        "id": "735eQCUCooyL",
        "outputId": "fde8d572-3eb7-4487-b9f9-705ea496a13f"
      },
      "outputs": [
        {
          "output_type": "stream",
          "name": "stdout",
          "text": [
            "Today's date: 2024-10-29\n"
          ]
        }
      ],
      "source": [
        "from datetime import date\n",
        "\n",
        "today = date.today()\n",
        "print(\"Today's date:\", today)"
      ]
    },
    {
      "cell_type": "markdown",
      "source": [
        "**2. Conduct a simple arithmetic operation**"
      ],
      "metadata": {
        "id": "VIhvJ5kT0MSq"
      }
    },
    {
      "cell_type": "code",
      "source": [
        "2 * 7"
      ],
      "metadata": {
        "colab": {
          "base_uri": "https://localhost:8080/"
        },
        "id": "SyXqFgS70FEj",
        "outputId": "3ffd55c1-089e-4de1-c487-d51080aca625"
      },
      "execution_count": null,
      "outputs": [
        {
          "output_type": "execute_result",
          "data": {
            "text/plain": [
              "14"
            ]
          },
          "metadata": {},
          "execution_count": 5
        }
      ]
    },
    {
      "cell_type": "markdown",
      "source": [
        "**3. Reflection**"
      ],
      "metadata": {
        "id": "8EUa3WIM0aKi"
      }
    },
    {
      "cell_type": "markdown",
      "source": [
        "By using repositories, we ensure that our code and data are transparent and publicly accessible, which facilitates the validation and replication of our computational work.\n",
        "\n",
        "Tracking changes in our code allows us to identify the sources of errors more effectively. If issues arise, we can easily re-examine previous versions of our work, making debugging a more streamlined process. This version control also serves as a safeguard against potential manipulation of data or code. Knowing that every modification is recorded encourages ethical practices and integrity in research.\n",
        "\n",
        "Publishing our work on platforms like GitHub further amplifies these benefits. It not only promotes accessibility but also fosters collaboration within the scientific community. Other researchers can review, use, and build upon our work, which can lead to new insights and advancements. GitHub’s version control features ensure that our computational results can be reproduced accurately, making it simpler for others to verify findings.\n",
        "\n",
        "In summary, utilizing repositories like GitHub enhances the reproducibility of computational work by promoting transparency, enabling efficient error tracking, and encouraging collaboration. These practices are essential for maintaining the integrity of scientific research and ensuring that results are both trustworthy and verifiable."
      ],
      "metadata": {
        "id": "vtxZZvLu0qbR"
      }
    }
  ]
}